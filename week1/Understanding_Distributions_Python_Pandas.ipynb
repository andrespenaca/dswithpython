{
  "nbformat": 4,
  "nbformat_minor": 0,
  "metadata": {
    "colab": {
      "name": "Understanding_Distributions_Python_Pandas.ipynb",
      "version": "0.3.2",
      "provenance": [],
      "collapsed_sections": []
    }
  },
  "cells": [
    {
      "metadata": {
        "id": "n8uQmvBqASr8",
        "colab_type": "text"
      },
      "cell_type": "markdown",
      "source": [
        "# DIVERGENCE ACADEMY\n",
        "https://divergenceacademy.com/"
      ]
    },
    {
      "metadata": {
        "id": "6ayhpvPbY7ln",
        "colab_type": "text"
      },
      "cell_type": "markdown",
      "source": [
        "# Understanding Distributions using Python Pandas\n",
        "\n",
        "In this example, we will learn how to\n",
        "- Format the data in a way that enables deriving key insights\n",
        "- Key topics\n",
        "  - Histograms\n",
        "  - Box Plots\n",
        "  - Scatter Plots\n",
        "  - Mean, Standard Deviation of a distribution.\n",
        "  \n",
        " - Note that this notebook is designed to work with Google Colab and access the drinks.csv file that is on my google drive. The access to the drinks.csv is public read.\n",
        "\n",
        "\n"
      ]
    },
    {
      "metadata": {
        "id": "W8h12x9KZrrf",
        "colab_type": "text"
      },
      "cell_type": "markdown",
      "source": [
        "## PART 0: Get Files in Google Drive to Local\n"
      ]
    },
    {
      "metadata": {
        "id": "UKbgCzijZnFM",
        "colab_type": "code",
        "colab": {}
      },
      "cell_type": "code",
      "source": [
        "dd_files = {\n",
        "    'drinks.csv': '1eJ0vbl-f1rtRLLG2cpWQRc48JW0ZqJaO'\n",
        "}"
      ],
      "execution_count": 0,
      "outputs": []
    },
    {
      "metadata": {
        "id": "Ed5e3x6RcP8v",
        "colab_type": "code",
        "colab": {
          "base_uri": "https://localhost:8080/",
          "height": 34
        },
        "outputId": "bbe0005d-6c01-4d93-d009-a39fbf8c4ef3"
      },
      "cell_type": "code",
      "source": [
        "!pip install -U -q PyDrive\t\t\t## First time install\n",
        "from pydrive.auth import GoogleAuth\n",
        "from pydrive.drive import GoogleDrive\n",
        "from google.colab import auth\n",
        "from oauth2client.client import GoogleCredentials\n",
        "\n",
        "auth.authenticate_user()\n",
        "gauth = GoogleAuth()\n",
        "gauth.credentials = GoogleCredentials.get_application_default()\n",
        "drive = GoogleDrive(gauth)\n",
        "\n",
        "#Download both files to cloud machine\n",
        "for k,v in dd_files.items():\n",
        "  downloaded = drive.CreateFile({'id': v}) # Get ID of file to download\n",
        "  downloaded.GetContentFile('/tmp/' + k)\n",
        "\n",
        "! ls /tmp"
      ],
      "execution_count": 0,
      "outputs": [
        {
          "output_type": "stream",
          "text": [
            "drinks.csv\n"
          ],
          "name": "stdout"
        }
      ]
    },
    {
      "metadata": {
        "id": "aS3y6vlb3POi",
        "colab_type": "code",
        "colab": {}
      },
      "cell_type": "code",
      "source": [
        ""
      ],
      "execution_count": 0,
      "outputs": []
    },
    {
      "metadata": {
        "id": "kiatxl5FdeZ0",
        "colab_type": "text"
      },
      "cell_type": "markdown",
      "source": [
        "**You can execute command line if you start with ! **"
      ]
    },
    {
      "metadata": {
        "id": "H845VWvwdbWh",
        "colab_type": "code",
        "colab": {
          "base_uri": "https://localhost:8080/",
          "height": 187
        },
        "outputId": "e8783af1-ee64-4339-c7d2-9372ff71976b"
      },
      "cell_type": "code",
      "source": [
        "!head /tmp/drinks.csv"
      ],
      "execution_count": 0,
      "outputs": [
        {
          "output_type": "stream",
          "text": [
            "country,beer_servings,spirit_servings,wine_servings,total_litres_of_pure_alcohol,continent\r\n",
            "Afghanistan,0,0,0,0,AS\r\n",
            "Albania,89,132,54,4.9,EU\r\n",
            "Algeria,25,0,14,0.7,AF\r\n",
            "Andorra,245,138,312,12.4,EU\r\n",
            "Angola,217,57,45,5.9,AF\r\n",
            "Antigua & Barbuda,102,128,45,4.9,NA\r\n",
            "Argentina,193,25,221,8.3,SA\r\n",
            "Armenia,21,179,11,3.8,EU\r\n",
            "Australia,261,72,212,10.4,OC\r\n"
          ],
          "name": "stdout"
        }
      ]
    },
    {
      "metadata": {
        "id": "Id-9Evgicy4D",
        "colab_type": "code",
        "colab": {}
      },
      "cell_type": "code",
      "source": [
        "import pandas as pd\n",
        "from IPython.display import HTML"
      ],
      "execution_count": 0,
      "outputs": []
    },
    {
      "metadata": {
        "id": "KVpFx6mkcVBM",
        "colab_type": "code",
        "colab": {}
      },
      "cell_type": "code",
      "source": [
        "drinks = pd.read_csv('/tmp/drinks.csv')"
      ],
      "execution_count": 0,
      "outputs": []
    },
    {
      "metadata": {
        "id": "knwXfpaRcx7h",
        "colab_type": "code",
        "colab": {
          "base_uri": "https://localhost:8080/",
          "height": 204
        },
        "outputId": "e4950488-3439-4b39-a182-2eaab39e3c43"
      },
      "cell_type": "code",
      "source": [
        "drinks.head()"
      ],
      "execution_count": 0,
      "outputs": [
        {
          "output_type": "execute_result",
          "data": {
            "text/html": [
              "<div>\n",
              "<style scoped>\n",
              "    .dataframe tbody tr th:only-of-type {\n",
              "        vertical-align: middle;\n",
              "    }\n",
              "\n",
              "    .dataframe tbody tr th {\n",
              "        vertical-align: top;\n",
              "    }\n",
              "\n",
              "    .dataframe thead th {\n",
              "        text-align: right;\n",
              "    }\n",
              "</style>\n",
              "<table border=\"1\" class=\"dataframe\">\n",
              "  <thead>\n",
              "    <tr style=\"text-align: right;\">\n",
              "      <th></th>\n",
              "      <th>country</th>\n",
              "      <th>beer_servings</th>\n",
              "      <th>spirit_servings</th>\n",
              "      <th>wine_servings</th>\n",
              "      <th>total_litres_of_pure_alcohol</th>\n",
              "      <th>continent</th>\n",
              "    </tr>\n",
              "  </thead>\n",
              "  <tbody>\n",
              "    <tr>\n",
              "      <th>0</th>\n",
              "      <td>Afghanistan</td>\n",
              "      <td>0</td>\n",
              "      <td>0</td>\n",
              "      <td>0</td>\n",
              "      <td>0.0</td>\n",
              "      <td>AS</td>\n",
              "    </tr>\n",
              "    <tr>\n",
              "      <th>1</th>\n",
              "      <td>Albania</td>\n",
              "      <td>89</td>\n",
              "      <td>132</td>\n",
              "      <td>54</td>\n",
              "      <td>4.9</td>\n",
              "      <td>EU</td>\n",
              "    </tr>\n",
              "    <tr>\n",
              "      <th>2</th>\n",
              "      <td>Algeria</td>\n",
              "      <td>25</td>\n",
              "      <td>0</td>\n",
              "      <td>14</td>\n",
              "      <td>0.7</td>\n",
              "      <td>AF</td>\n",
              "    </tr>\n",
              "    <tr>\n",
              "      <th>3</th>\n",
              "      <td>Andorra</td>\n",
              "      <td>245</td>\n",
              "      <td>138</td>\n",
              "      <td>312</td>\n",
              "      <td>12.4</td>\n",
              "      <td>EU</td>\n",
              "    </tr>\n",
              "    <tr>\n",
              "      <th>4</th>\n",
              "      <td>Angola</td>\n",
              "      <td>217</td>\n",
              "      <td>57</td>\n",
              "      <td>45</td>\n",
              "      <td>5.9</td>\n",
              "      <td>AF</td>\n",
              "    </tr>\n",
              "  </tbody>\n",
              "</table>\n",
              "</div>"
            ],
            "text/plain": [
              "       country  beer_servings  spirit_servings  wine_servings  \\\n",
              "0  Afghanistan              0                0              0   \n",
              "1      Albania             89              132             54   \n",
              "2      Algeria             25                0             14   \n",
              "3      Andorra            245              138            312   \n",
              "4       Angola            217               57             45   \n",
              "\n",
              "   total_litres_of_pure_alcohol continent  \n",
              "0                           0.0        AS  \n",
              "1                           4.9        EU  \n",
              "2                           0.7        AF  \n",
              "3                          12.4        EU  \n",
              "4                           5.9        AF  "
            ]
          },
          "metadata": {
            "tags": []
          },
          "execution_count": 7
        }
      ]
    },
    {
      "metadata": {
        "id": "Mzg9r5OLdAUk",
        "colab_type": "text"
      },
      "cell_type": "markdown",
      "source": [
        "**Make sure the data types look right**\n",
        "\n"
      ]
    },
    {
      "metadata": {
        "id": "7LyE8VPfc6Wq",
        "colab_type": "code",
        "colab": {
          "base_uri": "https://localhost:8080/",
          "height": 136
        },
        "outputId": "b52c2015-783e-4ef4-8af6-7f11c31ccfcb"
      },
      "cell_type": "code",
      "source": [
        "drinks.dtypes"
      ],
      "execution_count": 0,
      "outputs": [
        {
          "output_type": "execute_result",
          "data": {
            "text/plain": [
              "country                          object\n",
              "beer_servings                     int64\n",
              "spirit_servings                   int64\n",
              "wine_servings                     int64\n",
              "total_litres_of_pure_alcohol    float64\n",
              "continent                        object\n",
              "dtype: object"
            ]
          },
          "metadata": {
            "tags": []
          },
          "execution_count": 8
        }
      ]
    },
    {
      "metadata": {
        "id": "W-QSLT58c8rC",
        "colab_type": "code",
        "colab": {}
      },
      "cell_type": "code",
      "source": [
        "#Can you come to any conclusions with these numbers"
      ],
      "execution_count": 0,
      "outputs": []
    },
    {
      "metadata": {
        "id": "5WXLxQUddE6I",
        "colab_type": "code",
        "colab": {
          "base_uri": "https://localhost:8080/",
          "height": 34
        },
        "outputId": "e9318bc4-8217-4b09-9bc4-7f0c544d34b3"
      },
      "cell_type": "code",
      "source": [
        "drinks.shape"
      ],
      "execution_count": 0,
      "outputs": [
        {
          "output_type": "execute_result",
          "data": {
            "text/plain": [
              "(193, 6)"
            ]
          },
          "metadata": {
            "tags": []
          },
          "execution_count": 13
        }
      ]
    },
    {
      "metadata": {
        "id": "iJ6o5ZJ8d0Rl",
        "colab_type": "code",
        "colab": {
          "base_uri": "https://localhost:8080/",
          "height": 34
        },
        "outputId": "97c65cbd-4426-4e16-b07d-82b4cdf6a7a5"
      },
      "cell_type": "code",
      "source": [
        "drinks.beer_servings.mean()"
      ],
      "execution_count": 0,
      "outputs": [
        {
          "output_type": "execute_result",
          "data": {
            "text/plain": [
              "106.16062176165804"
            ]
          },
          "metadata": {
            "tags": []
          },
          "execution_count": 15
        }
      ]
    },
    {
      "metadata": {
        "id": "a28C_oepd2IU",
        "colab_type": "code",
        "colab": {
          "base_uri": "https://localhost:8080/",
          "height": 34
        },
        "outputId": "b1562b73-174a-45d0-b26d-5bcbda8edca2"
      },
      "cell_type": "code",
      "source": [
        "drinks.beer_servings.std()"
      ],
      "execution_count": 0,
      "outputs": [
        {
          "output_type": "execute_result",
          "data": {
            "text/plain": [
              "101.1431025393134"
            ]
          },
          "metadata": {
            "tags": []
          },
          "execution_count": 17
        }
      ]
    },
    {
      "metadata": {
        "id": "7AIutqQUeBtP",
        "colab_type": "text"
      },
      "cell_type": "markdown",
      "source": [
        "## STEP 2: HISTOGRAM - SHOW THE DISTRIBUTION OF A NUMERICAL VARIABLE\n",
        "\n",
        "1.   List item\n",
        "2.   List item\n",
        "\n"
      ]
    },
    {
      "metadata": {
        "id": "nQkKf7Kcd640",
        "colab_type": "code",
        "colab": {
          "base_uri": "https://localhost:8080/",
          "height": 272
        },
        "outputId": "67171ec6-f41e-4902-ef99-ab0b8248ffea"
      },
      "cell_type": "code",
      "source": [
        "# sort the beer column and split it into groups\n",
        "drinks.beer_servings.sort_values().values"
      ],
      "execution_count": 0,
      "outputs": [
        {
          "output_type": "execute_result",
          "data": {
            "text/plain": [
              "array([  0,   0,   0,   0,   0,   0,   0,   0,   0,   0,   0,   0,   0,\n",
              "         0,   0,   1,   1,   1,   1,   2,   3,   5,   5,   5,   5,   5,\n",
              "         6,   6,   6,   6,   8,   8,   8,   9,   9,   9,   9,  12,  13,\n",
              "        15,  15,  16,  16,  17,  18,  19,  19,  20,  20,  21,  21,  21,\n",
              "        21,  22,  23,  25,  25,  25,  25,  26,  28,  31,  31,  31,  31,\n",
              "        32,  32,  34,  36,  36,  36,  37,  42,  42,  43,  44,  45,  47,\n",
              "        49,  51,  51,  52,  52,  52,  53,  56,  56,  57,  58,  60,  62,\n",
              "        62,  63,  64,  69,  71,  76,  76,  77,  77,  77,  78,  79,  82,\n",
              "        82,  85,  88,  89,  90,  92,  93,  93,  98,  99, 102, 105, 106,\n",
              "       109, 111, 115, 120, 122, 124, 127, 128, 130, 133, 140, 142, 143,\n",
              "       144, 147, 149, 149, 152, 157, 159, 162, 163, 167, 169, 171, 173,\n",
              "       185, 188, 192, 193, 193, 194, 194, 196, 197, 199, 203, 206, 213,\n",
              "       217, 219, 224, 224, 225, 230, 231, 233, 234, 236, 238, 240, 245,\n",
              "       245, 247, 249, 251, 261, 263, 263, 270, 279, 281, 283, 284, 285,\n",
              "       295, 297, 306, 313, 333, 343, 343, 346, 347, 361, 376])"
            ]
          },
          "metadata": {
            "tags": []
          },
          "execution_count": 19
        }
      ]
    },
    {
      "metadata": {
        "id": "IhlS5m9CeGDa",
        "colab_type": "code",
        "colab": {
          "base_uri": "https://localhost:8080/",
          "height": 364
        },
        "outputId": "385a34ce-a384-44ff-bc59-669a2a98135e"
      },
      "cell_type": "code",
      "source": [
        "# compare with histogram: Now, put them in 10 bins\n",
        "drinks.beer_servings.plot(kind='hist', bins=10)"
      ],
      "execution_count": 0,
      "outputs": [
        {
          "output_type": "execute_result",
          "data": {
            "text/plain": [
              "<matplotlib.axes._subplots.AxesSubplot at 0x7f7e7d8caf10>"
            ]
          },
          "metadata": {
            "tags": []
          },
          "execution_count": 19
        },
        {
          "output_type": "display_data",
          "data": {
            "image/png": "[encoded data removed]",
            "text/plain": [
              "<matplotlib.figure.Figure at 0x7f7e7d840f10>"
            ]
          },
          "metadata": {
            "tags": []
          }
        }
      ]
    },
    {
      "metadata": {
        "id": "63VBGllfecQD",
        "colab_type": "text"
      },
      "cell_type": "markdown",
      "source": [
        "**Each row in the dataframe represents a country. In above histogram, we take each country and put it in a bin. For example looking at value_counts below, we can tell that in the 2nd bin there are 24 countries that have beer_servings between (36.6 and 75.2) litres/year**"
      ]
    },
    {
      "metadata": {
        "id": "TB1yjemweK4S",
        "colab_type": "code",
        "colab": {
          "base_uri": "https://localhost:8080/",
          "height": 204
        },
        "outputId": "8eb1f405-3ee4-4a5a-d018-3cd91cbdef34"
      },
      "cell_type": "code",
      "source": [
        "drinks.beer_servings.value_counts(bins=10)"
      ],
      "execution_count": 0,
      "outputs": [
        {
          "output_type": "execute_result",
          "data": {
            "text/plain": [
              "(-0.377, 37.6]    72\n",
              "(37.6, 75.2]      24\n",
              "(75.2, 112.8]     23\n",
              "(188.0, 225.6]    16\n",
              "(225.6, 263.2]    15\n",
              "(112.8, 150.4]    15\n",
              "(150.4, 188.0]    11\n",
              "(263.2, 300.8]     8\n",
              "(338.4, 376.0]     6\n",
              "(300.8, 338.4]     3\n",
              "Name: beer_servings, dtype: int64"
            ]
          },
          "metadata": {
            "tags": []
          },
          "execution_count": 18
        }
      ]
    },
    {
      "metadata": {
        "id": "DF76XHsjetdS",
        "colab_type": "code",
        "colab": {}
      },
      "cell_type": "code",
      "source": [
        ""
      ],
      "execution_count": 0,
      "outputs": []
    },
    {
      "metadata": {
        "id": "8k1-uVyefhPO",
        "colab_type": "text"
      },
      "cell_type": "markdown",
      "source": [
        "**Just based on above data, we can come to some conclusions about the distributions of beer_servings for countries**\n",
        "- If we randomly pick a country, what is the probability that we pick a country that consumes more than 150 litres per person per year?\n",
        "- If we randomly pick a country, what is the probability that we pick a country that consumes between 150-188 litres per person per year?"
      ]
    },
    {
      "metadata": {
        "id": "L2Tk_LSw6kV5",
        "colab_type": "text"
      },
      "cell_type": "markdown",
      "source": [
        "## STEP 3: Box Plots\n",
        "- Box plots are an other way to look at the distribution of a single variable.\n",
        "- Unlike histograms, each quadrant below has the same number of countries inside of it. Each quadrant has 1/4th the number of countries\n",
        "- So you know the first quadrant is really dense. There are many countries in the same amount of range approx 0 - 20."
      ]
    },
    {
      "metadata": {
        "id": "0anXmEwA6b2X",
        "colab_type": "code",
        "colab": {
          "base_uri": "https://localhost:8080/",
          "height": 364
        },
        "outputId": "268ccf3b-b2cc-4a07-87b6-13067b4444ff"
      },
      "cell_type": "code",
      "source": [
        "drinks.beer_servings.plot(kind='box')"
      ],
      "execution_count": 0,
      "outputs": [
        {
          "output_type": "execute_result",
          "data": {
            "text/plain": [
              "<matplotlib.axes._subplots.AxesSubplot at 0x7f7e7d972a50>"
            ]
          },
          "metadata": {
            "tags": []
          },
          "execution_count": 15
        },
        {
          "output_type": "display_data",
          "data": {
            "image/png": "[encoded data removed]",
            "text/plain": [
              "<matplotlib.figure.Figure at 0x7f7e7d96ab50>"
            ]
          },
          "metadata": {
            "tags": []
          }
        }
      ]
    },
    {
      "metadata": {
        "id": "dUGS4vlu2_88",
        "colab_type": "text"
      },
      "cell_type": "markdown",
      "source": [
        "## STEP 3: SCATTER PLOTS - Understand distributions across two variables\n"
      ]
    },
    {
      "metadata": {
        "id": "xGp5lREe2_PE",
        "colab_type": "code",
        "colab": {
          "base_uri": "https://localhost:8080/",
          "height": 378
        },
        "outputId": "b902266a-1196-45c3-e60f-3075371e05c0"
      },
      "cell_type": "code",
      "source": [
        "drinks.plot(kind=\"scatter\", x = \"beer_servings\", y = \"wine_servings\")"
      ],
      "execution_count": 0,
      "outputs": [
        {
          "output_type": "execute_result",
          "data": {
            "text/plain": [
              "<matplotlib.axes._subplots.AxesSubplot at 0x7f7e80375b50>"
            ]
          },
          "metadata": {
            "tags": []
          },
          "execution_count": 8
        },
        {
          "output_type": "display_data",
          "data": {
            "image/png": "[encoded data removed]",
            "text/plain": [
              "<matplotlib.figure.Figure at 0x7f7e81092350>"
            ]
          },
          "metadata": {
            "tags": []
          }
        }
      ]
    },
    {
      "metadata": {
        "id": "43QJrr1I7wIC",
        "colab_type": "text"
      },
      "cell_type": "markdown",
      "source": [
        "The red line shows the median values. If you are to sort all the countries according to their \"beer_servings\", the country in the middle will have the \"median value\"."
      ]
    },
    {
      "metadata": {
        "id": "YfNJvuud2tz6",
        "colab_type": "code",
        "colab": {
          "base_uri": "https://localhost:8080/",
          "height": 34
        },
        "outputId": "45c8888d-ab1a-47ac-d200-6c8ca14b54b6"
      },
      "cell_type": "code",
      "source": [
        "drinks.corr()[\"beer_servings\"][\"spirit_servings\"]"
      ],
      "execution_count": 0,
      "outputs": [
        {
          "output_type": "execute_result",
          "data": {
            "text/plain": [
              "0.45881887413938227"
            ]
          },
          "metadata": {
            "tags": []
          },
          "execution_count": 13
        }
      ]
    },
    {
      "metadata": {
        "id": "8JgQeHzM5Xx_",
        "colab_type": "text"
      },
      "cell_type": "markdown",
      "source": [
        "- **Scatter plots are great at looking at relationships between two variables. In above case, between beer_servings and spirit_servings**\n",
        "- Each dot in above graph represents a country.\n",
        "- So, if some one asks, overall, how well do these \"beer_servings\" and \"spirit_servings\" go up or down together, scatter plots are good way to eye ball that.\n",
        "- Overall, we see that if the number of beer_servings for a country is large, their wine_servings also tends to be higher.\n",
        "\n"
      ]
    },
    {
      "metadata": {
        "id": "XR3IeSzq6Wqo",
        "colab_type": "text"
      },
      "cell_type": "markdown",
      "source": [
        "Now, if you want to look across multiple variables at the same time"
      ]
    },
    {
      "metadata": {
        "id": "CImgcS2Z5GEy",
        "colab_type": "code",
        "colab": {
          "base_uri": "https://localhost:8080/",
          "height": 173
        },
        "outputId": "b757b92c-d661-412f-8efa-ee6b154a7cd5"
      },
      "cell_type": "code",
      "source": [
        "drinks.corr()"
      ],
      "execution_count": 0,
      "outputs": [
        {
          "output_type": "execute_result",
          "data": {
            "text/html": [
              "<div>\n",
              "<style scoped>\n",
              "    .dataframe tbody tr th:only-of-type {\n",
              "        vertical-align: middle;\n",
              "    }\n",
              "\n",
              "    .dataframe tbody tr th {\n",
              "        vertical-align: top;\n",
              "    }\n",
              "\n",
              "    .dataframe thead th {\n",
              "        text-align: right;\n",
              "    }\n",
              "</style>\n",
              "<table border=\"1\" class=\"dataframe\">\n",
              "  <thead>\n",
              "    <tr style=\"text-align: right;\">\n",
              "      <th></th>\n",
              "      <th>beer_servings</th>\n",
              "      <th>spirit_servings</th>\n",
              "      <th>wine_servings</th>\n",
              "      <th>total_litres_of_pure_alcohol</th>\n",
              "    </tr>\n",
              "  </thead>\n",
              "  <tbody>\n",
              "    <tr>\n",
              "      <th>beer_servings</th>\n",
              "      <td>1.000000</td>\n",
              "      <td>0.458819</td>\n",
              "      <td>0.527172</td>\n",
              "      <td>0.835839</td>\n",
              "    </tr>\n",
              "    <tr>\n",
              "      <th>spirit_servings</th>\n",
              "      <td>0.458819</td>\n",
              "      <td>1.000000</td>\n",
              "      <td>0.194797</td>\n",
              "      <td>0.654968</td>\n",
              "    </tr>\n",
              "    <tr>\n",
              "      <th>wine_servings</th>\n",
              "      <td>0.527172</td>\n",
              "      <td>0.194797</td>\n",
              "      <td>1.000000</td>\n",
              "      <td>0.667598</td>\n",
              "    </tr>\n",
              "    <tr>\n",
              "      <th>total_litres_of_pure_alcohol</th>\n",
              "      <td>0.835839</td>\n",
              "      <td>0.654968</td>\n",
              "      <td>0.667598</td>\n",
              "      <td>1.000000</td>\n",
              "    </tr>\n",
              "  </tbody>\n",
              "</table>\n",
              "</div>"
            ],
            "text/plain": [
              "                              beer_servings  spirit_servings  wine_servings  \\\n",
              "beer_servings                      1.000000         0.458819       0.527172   \n",
              "spirit_servings                    0.458819         1.000000       0.194797   \n",
              "wine_servings                      0.527172         0.194797       1.000000   \n",
              "total_litres_of_pure_alcohol       0.835839         0.654968       0.667598   \n",
              "\n",
              "                              total_litres_of_pure_alcohol  \n",
              "beer_servings                                     0.835839  \n",
              "spirit_servings                                   0.654968  \n",
              "wine_servings                                     0.667598  \n",
              "total_litres_of_pure_alcohol                      1.000000  "
            ]
          },
          "metadata": {
            "tags": []
          },
          "execution_count": 14
        }
      ]
    },
    {
      "metadata": {
        "id": "wGzhWAns-v2E",
        "colab_type": "text"
      },
      "cell_type": "markdown",
      "source": [
        "Example Questions:\n",
        "- If you randomly picked a country. What's the probability that the country's beer_servings is more than 200 per person per year?\n",
        "- If you randomly pick a country, what is the probability that the country's wine_servings is less than 150 litres/person/year\n",
        "- How well do the wine_servings and spirit_servings in Europe (EU) go up or down together. Can you give a number between -1 and +1 that can get the essense of this behavior"
      ]
    },
    {
      "metadata": {
        "id": "f7RK9NStxsTs",
        "colab_type": "text"
      },
      "cell_type": "markdown",
      "source": [
        "## Interactive Visualizations with Tableau\n",
        "\n",
        "* Histograms, Box Plots and Scatter Plots form the foundation for understanding the distributions underlying the data. Once you understand the distributions, you can come to certain conclusions and communicate insights to the business stake holders, enabling them to make better decisions.\n",
        "\n",
        "* While Python-Pandas-Matplotlib are great while doing exploratory work and sharing data and ideas among fellow programmers and Data Scientists, I found they are not very effective while communicating insights with senior leadership and managers.\n",
        "\n",
        "* When you are in the same room as an executive, it is critical to be able to answer as many questions as possible in the same 15-20 session without scrolling up and down and dynamically programming. This is where Tableau comes in handy.\n",
        "\n",
        "* To learn more about Visualizing Distributions with Tableau, [![Distributions with Tableau](https://github.com/viswanath-puttagunta/dswithpython/blob/master/week1/Tableau_Distributions.png?raw=true)](https://www.youtube.com/watch?v=KeoR1c9QO-w \"Everything Is AWESOME\")\n"
      ]
    },
    {
      "metadata": {
        "id": "NZgzUXt7xr0R",
        "colab_type": "code",
        "colab": {}
      },
      "cell_type": "code",
      "source": [
        ""
      ],
      "execution_count": 0,
      "outputs": []
    },
    {
      "metadata": {
        "id": "Xxjlws8d_J2w",
        "colab_type": "code",
        "colab": {}
      },
      "cell_type": "code",
      "source": [
        ""
      ],
      "execution_count": 0,
      "outputs": []
    },
    {
      "metadata": {
        "id": "BQwYBZT8_9Yb",
        "colab_type": "code",
        "colab": {}
      },
      "cell_type": "code",
      "source": [
        ""
      ],
      "execution_count": 0,
      "outputs": []
    }
  ]
}